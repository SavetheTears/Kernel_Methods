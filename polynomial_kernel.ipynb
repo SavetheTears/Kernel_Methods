{
 "cells": [
  {
   "cell_type": "code",
   "execution_count": 1,
   "metadata": {},
   "outputs": [],
   "source": [
    "import numpy as np\n",
    "import matplotlib.pyplot as plt\n",
    "import pandas as pd\n",
    "from sklearn.datasets import make_circles"
   ]
  },
  {
   "cell_type": "code",
   "execution_count": 11,
   "metadata": {},
   "outputs": [
    {
     "data": {
      "image/png": "[encoded data removed]",
      "text/plain": [
       "<Figure size 432x288 with 1 Axes>"
      ]
     },
     "metadata": {
      "needs_background": "light"
     },
     "output_type": "display_data"
    }
   ],
   "source": [
    "X,y = make_circles(n_samples = 500, noise = 0.13, random_state=42)\n",
    "df  = pd.DataFrame(dict(x1 = X[:,0], x2 = X[:,1], y = y))\n",
    "\n",
    "#plot the dataset\n",
    "colors = {0:'blue', 1: 'green'}\n",
    "fig, ax = plt.subplots()\n",
    "grouped = df.groupby('y')\n",
    "for key, group in grouped:\n",
    "    group.plot(ax = ax , kind = 'scatter', x = 'x1', y = 'x2', label = key, color = colors[key])\n",
    "plt.show()"
   ]
  },
  {
   "cell_type": "code",
   "execution_count": 37,
   "metadata": {},
   "outputs": [],
   "source": [
    "class SVM:\n",
    "\n",
    "    def __init__(self, err=1.0, kernel=None):\n",
    "        self.err = err\n",
    "        self.w = 0\n",
    "        self.b = 0\n",
    "        self.kernel = kernel\n",
    "\n",
    "    def hingeloss(self, w, b, x, y):\n",
    "        reg = 0.5 *(w * w)\n",
    "\n",
    "        for i in range(x.shape[0]):\n",
    "            #optimization term\n",
    "            opt_term = y[i] * ((np.dot(w, x[i]))+b)\n",
    "\n",
    "            loss = reg + self.err * max(0, 1-opt_term)\n",
    "        \n",
    "        return loss[0][0]\n",
    "\n",
    "    def transform_poly(self,X, Y = None):\n",
    "        X['x1^2'] = X['x1'] **2\n",
    "        X['x2^2'] = X['x2'] ** 2\n",
    "\n",
    "        X['x1*x2'] = X['x1'] * X['x2']\n",
    "\n",
    "        X = X.to_numpy()\n",
    "        if Y.size != 0:\n",
    "            Y = Y.to_numpy()\n",
    "            return X, Y\n",
    "        else:\n",
    "            return X\n",
    "\n",
    "    def fit(self, X, y, batch_size = 100, learning_rate = 0.001, epochs = 1000):\n",
    "        number_of_features = X.shape[1]\n",
    "        number_of_samples = X.shape[0]\n",
    "        err = self.err\n",
    "        ids = np.arange(number_of_samples)\n",
    "        np.random.shuffle(ids)\n",
    "\n",
    "        #\n",
    "        w = np.zeros((1, number_of_features))\n",
    "        b = 0\n",
    "        losses = []\n",
    "\n",
    "        if(self.kernel == \"poly\"):\n",
    "            print(\"SVM(kernel=='poly')\")\n",
    "            X, y = self.transform_poly(X, y)\n",
    "        else:\n",
    "            X = X.to_numpy()\n",
    "            y = y.to_numpy()\n",
    "\n",
    "        #gradient descent logic\n",
    "        for i in range(epochs):\n",
    "            l = self.hingeloss(w,b,X,y)\n",
    "            losses.append(l)\n",
    "\n",
    "            #starting from the very first to the number of samples with batch_size as the interval\n",
    "            for batch_initial in range(0, number_of_samples, batch_size):\n",
    "                gradw = 0\n",
    "                gradb = 0\n",
    "\n",
    "                for j in range(batch_initial, batch_initial+batch_size):\n",
    "\n",
    "                    if j < number_of_samples:\n",
    "                        x = ids[j]\n",
    "                        ti = y[x] * (np.dot(w, X[x].T) + b)\n",
    "\n",
    "                        #do nothing\n",
    "                        if ti > 1:\n",
    "                            gradw += 0\n",
    "                            gradb += 0\n",
    "                        \n",
    "                        else:\n",
    "                            gradw += err*y[x] * X[x]\n",
    "\n",
    "                            gradb += err*y[x]\n",
    "\n",
    "                w = w - learning_rate * w + learning_rate * gradw\n",
    "                b = b + learning_rate * gradb\n",
    "\n",
    "        self.w += w\n",
    "        self.b += b\n",
    "\n",
    "        return self.w, self.b , losses\n",
    "\n",
    "    def predict(self, X):\n",
    "        if(self.kernel == 'poly'):\n",
    "            X = self.transform_poly(X,np.array([]))\n",
    "        else:\n",
    "            X = X.to_numpy()\n",
    "        prediction = np.dot(X,self.w[0]) + self.b\n",
    "        return np.sign(prediction)\n",
    "\n"
   ]
  },
  {
   "attachments": {},
   "cell_type": "markdown",
   "metadata": {},
   "source": [
    "## Classification"
   ]
  },
  {
   "cell_type": "code",
   "execution_count": 33,
   "metadata": {},
   "outputs": [],
   "source": [
    "X = df[['x1', 'x2']]\n",
    "y = df['y']\n",
    "\n",
    "y = y.replace(0,-1)\n"
   ]
  },
  {
   "cell_type": "code",
   "execution_count": 25,
   "metadata": {},
   "outputs": [],
   "source": [
    "from sklearn.model_selection import train_test_split\n",
    "\n",
    "X_train, X_test, y_train, y_test = train_test_split(X, y, test_size = 0.7, random_state=42)\n"
   ]
  },
  {
   "cell_type": "code",
   "execution_count": 29,
   "metadata": {},
   "outputs": [
    {
     "name": "stdout",
     "output_type": "stream",
     "text": [
      "Accuracy:  0.48\n"
     ]
    }
   ],
   "source": [
    "from sklearn.metrics import accuracy_score\n",
    "svm = SVM()\n",
    "\n",
    "w,b, losses = svm.fit(X_train, y_train)\n",
    "\n",
    "pred = svm.predict(X_test)\n",
    "\n",
    "print(\"Accuracy: \", accuracy_score(pred,y_test))"
   ]
  },
  {
   "cell_type": "code",
   "execution_count": 38,
   "metadata": {},
   "outputs": [
    {
     "name": "stdout",
     "output_type": "stream",
     "text": [
      "SVM(kernel=='poly')\n",
      "Accuracy:  0.7657142857142857\n"
     ]
    }
   ],
   "source": [
    "svm_poly = SVM(kernel = 'poly')\n",
    "\n",
    "w,b, losses = svm_poly.fit(X_train, y_train)\n",
    "\n",
    "pred = svm_poly.predict(X_test)\n",
    "\n",
    "print(\"Accuracy: \", accuracy_score(pred,y_test))"
   ]
  },
  {
   "cell_type": "code",
   "execution_count": null,
   "metadata": {},
   "outputs": [],
   "source": []
  }
 ],
 "metadata": {
  "kernelspec": {
   "display_name": "base",
   "language": "python",
   "name": "python3"
  },
  "language_info": {
   "codemirror_mode": {
    "name": "ipython",
    "version": 3
   },
   "file_extension": ".py",
   "mimetype": "text/x-python",
   "name": "python",
   "nbconvert_exporter": "python",
   "pygments_lexer": "ipython3",
   "version": "3.9.12"
  },
  "orig_nbformat": 4,
  "vscode": {
   "interpreter": {
    "hash": "243a0e4ccb0a9c0231a90d5664446385bbd4d8fe249372719ea94346d49f3c32"
   }
  }
 },
 "nbformat": 4,
 "nbformat_minor": 2
}
